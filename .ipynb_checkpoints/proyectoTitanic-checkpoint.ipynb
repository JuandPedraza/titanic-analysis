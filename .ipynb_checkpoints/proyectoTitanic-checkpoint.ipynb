{
 "cells": [
  {
   "cell_type": "markdown",
   "id": "45935463-c964-467a-ab67-f7d6dfb51e40",
   "metadata": {},
   "source": [
    "# Análisis Exploratorio de Datos: Titanic Dataset 🛳️\n",
    "\n",
    "Este notebook tiene como objetivo realizar un análisis exploratorio de los datos del Titanic utilizando Python y la librería pandas. Se buscarán patrones relacionados con la supervivencia de los pasajeros según variables como el sexo, la clase en la que viajaban y el puerto de embarque.\n",
    "\n",
    "Dataset utilizado: [`titanic.csv`](https://www.kaggle.com/c/titanic/data)\n",
    "\n",
    "---\n"
   ]
  },
  {
   "cell_type": "markdown",
   "id": "cdc5b526-8de0-4e51-a364-2dfb660bf700",
   "metadata": {},
   "source": [
    "## Carga de librerías y datos\n",
    "\n",
    "Se importan las librerías necesarias: `pandas`, `matplotlib`, `seaborn` para análisis y visualización, y se carga el archivo CSV con los datos del Titanic.\n"
   ]
  },
  {
   "cell_type": "markdown",
   "id": "5036f361-d6fa-4377-a34c-bce419dcb2dd",
   "metadata": {},
   "source": [
    "## Exploración Inicial\n",
    "\n",
    "Visualizamos las primeras filas del dataset con `.head()` para tener una idea general de la estructura de los datos. También utilizamos `.info()` para revisar los tipos de datos y valores faltantes.\n",
    "\n",
    "Objetivo: detectar variables relevantes y columnas con datos faltantes.\n"
   ]
  },
  {
   "cell_type": "code",
   "execution_count": 1,
   "id": "d1a34524-642c-4073-89ee-7951d068140c",
   "metadata": {},
   "outputs": [
    {
     "name": "stdout",
     "output_type": "stream",
     "text": [
      "<class 'pandas.core.frame.DataFrame'>\n",
      "RangeIndex: 891 entries, 0 to 890\n",
      "Data columns (total 12 columns):\n",
      " #   Column       Non-Null Count  Dtype  \n",
      "---  ------       --------------  -----  \n",
      " 0   PassengerId  891 non-null    int64  \n",
      " 1   Survived     891 non-null    int64  \n",
      " 2   Pclass       891 non-null    int64  \n",
      " 3   Name         891 non-null    object \n",
      " 4   Sex          891 non-null    object \n",
      " 5   Age          714 non-null    float64\n",
      " 6   SibSp        891 non-null    int64  \n",
      " 7   Parch        891 non-null    int64  \n",
      " 8   Ticket       891 non-null    object \n",
      " 9   Fare         891 non-null    float64\n",
      " 10  Cabin        204 non-null    object \n",
      " 11  Embarked     889 non-null    object \n",
      "dtypes: float64(2), int64(5), object(5)\n",
      "memory usage: 83.7+ KB\n"
     ]
    },
    {
     "data": {
      "text/html": [
       "<div>\n",
       "<style scoped>\n",
       "    .dataframe tbody tr th:only-of-type {\n",
       "        vertical-align: middle;\n",
       "    }\n",
       "\n",
       "    .dataframe tbody tr th {\n",
       "        vertical-align: top;\n",
       "    }\n",
       "\n",
       "    .dataframe thead th {\n",
       "        text-align: right;\n",
       "    }\n",
       "</style>\n",
       "<table border=\"1\" class=\"dataframe\">\n",
       "  <thead>\n",
       "    <tr style=\"text-align: right;\">\n",
       "      <th></th>\n",
       "      <th>PassengerId</th>\n",
       "      <th>Survived</th>\n",
       "      <th>Pclass</th>\n",
       "      <th>Age</th>\n",
       "      <th>SibSp</th>\n",
       "      <th>Parch</th>\n",
       "      <th>Fare</th>\n",
       "    </tr>\n",
       "  </thead>\n",
       "  <tbody>\n",
       "    <tr>\n",
       "      <th>count</th>\n",
       "      <td>891.000000</td>\n",
       "      <td>891.000000</td>\n",
       "      <td>891.000000</td>\n",
       "      <td>714.000000</td>\n",
       "      <td>891.000000</td>\n",
       "      <td>891.000000</td>\n",
       "      <td>891.000000</td>\n",
       "    </tr>\n",
       "    <tr>\n",
       "      <th>mean</th>\n",
       "      <td>446.000000</td>\n",
       "      <td>0.383838</td>\n",
       "      <td>2.308642</td>\n",
       "      <td>29.699118</td>\n",
       "      <td>0.523008</td>\n",
       "      <td>0.381594</td>\n",
       "      <td>32.204208</td>\n",
       "    </tr>\n",
       "    <tr>\n",
       "      <th>std</th>\n",
       "      <td>257.353842</td>\n",
       "      <td>0.486592</td>\n",
       "      <td>0.836071</td>\n",
       "      <td>14.526497</td>\n",
       "      <td>1.102743</td>\n",
       "      <td>0.806057</td>\n",
       "      <td>49.693429</td>\n",
       "    </tr>\n",
       "    <tr>\n",
       "      <th>min</th>\n",
       "      <td>1.000000</td>\n",
       "      <td>0.000000</td>\n",
       "      <td>1.000000</td>\n",
       "      <td>0.420000</td>\n",
       "      <td>0.000000</td>\n",
       "      <td>0.000000</td>\n",
       "      <td>0.000000</td>\n",
       "    </tr>\n",
       "    <tr>\n",
       "      <th>25%</th>\n",
       "      <td>223.500000</td>\n",
       "      <td>0.000000</td>\n",
       "      <td>2.000000</td>\n",
       "      <td>20.125000</td>\n",
       "      <td>0.000000</td>\n",
       "      <td>0.000000</td>\n",
       "      <td>7.910400</td>\n",
       "    </tr>\n",
       "    <tr>\n",
       "      <th>50%</th>\n",
       "      <td>446.000000</td>\n",
       "      <td>0.000000</td>\n",
       "      <td>3.000000</td>\n",
       "      <td>28.000000</td>\n",
       "      <td>0.000000</td>\n",
       "      <td>0.000000</td>\n",
       "      <td>14.454200</td>\n",
       "    </tr>\n",
       "    <tr>\n",
       "      <th>75%</th>\n",
       "      <td>668.500000</td>\n",
       "      <td>1.000000</td>\n",
       "      <td>3.000000</td>\n",
       "      <td>38.000000</td>\n",
       "      <td>1.000000</td>\n",
       "      <td>0.000000</td>\n",
       "      <td>31.000000</td>\n",
       "    </tr>\n",
       "    <tr>\n",
       "      <th>max</th>\n",
       "      <td>891.000000</td>\n",
       "      <td>1.000000</td>\n",
       "      <td>3.000000</td>\n",
       "      <td>80.000000</td>\n",
       "      <td>8.000000</td>\n",
       "      <td>6.000000</td>\n",
       "      <td>512.329200</td>\n",
       "    </tr>\n",
       "  </tbody>\n",
       "</table>\n",
       "</div>"
      ],
      "text/plain": [
       "       PassengerId    Survived      Pclass         Age       SibSp  \\\n",
       "count   891.000000  891.000000  891.000000  714.000000  891.000000   \n",
       "mean    446.000000    0.383838    2.308642   29.699118    0.523008   \n",
       "std     257.353842    0.486592    0.836071   14.526497    1.102743   \n",
       "min       1.000000    0.000000    1.000000    0.420000    0.000000   \n",
       "25%     223.500000    0.000000    2.000000   20.125000    0.000000   \n",
       "50%     446.000000    0.000000    3.000000   28.000000    0.000000   \n",
       "75%     668.500000    1.000000    3.000000   38.000000    1.000000   \n",
       "max     891.000000    1.000000    3.000000   80.000000    8.000000   \n",
       "\n",
       "            Parch        Fare  \n",
       "count  891.000000  891.000000  \n",
       "mean     0.381594   32.204208  \n",
       "std      0.806057   49.693429  \n",
       "min      0.000000    0.000000  \n",
       "25%      0.000000    7.910400  \n",
       "50%      0.000000   14.454200  \n",
       "75%      0.000000   31.000000  \n",
       "max      6.000000  512.329200  "
      ]
     },
     "execution_count": 1,
     "metadata": {},
     "output_type": "execute_result"
    }
   ],
   "source": [
    "import pandas as pd\n",
    "\n",
    "df = pd.read_csv('train.csv')\n",
    "df.head()\n",
    "df.info()\n",
    "df.describe()"
   ]
  },
  {
   "cell_type": "markdown",
   "id": "4f9292b1-4e36-4711-9c06-35cba4764cf9",
   "metadata": {},
   "source": [
    "## Análisis de Variables\n",
    "\n",
    "Se analizan variables claves para entender su distribución y relación con la supervivencia.\n",
    "\n",
    "- `Survived`: Variable objetivo (0 = no sobrevivió, 1 = sobrevivió)\n",
    "- `Sex`: Género del pasajero\n",
    "- `Pclass`: Clase en la que viajaba el pasajero (1ª, 2ª, 3ª)\n",
    "- `Age`: Edad del pasajero\n",
    "\n",
    "Se genera un histograma de edades para visualizar la distribución de este atributo.\n"
   ]
  },
  {
   "cell_type": "code",
   "execution_count": null,
   "id": "a4a2784e-36bf-49bf-921d-73b1622f3f59",
   "metadata": {},
   "outputs": [],
   "source": [
    "df.isnull().sum()"
   ]
  },
  {
   "cell_type": "code",
   "execution_count": null,
   "id": "84a5f630-011a-4c9e-a66c-d57d66033a97",
   "metadata": {},
   "outputs": [],
   "source": [
    "df['Survived'].value_counts()\n",
    "df['Pclass'].value_counts()"
   ]
  },
  {
   "cell_type": "code",
   "execution_count": 6,
   "id": "895c0829-8297-4868-8a69-e71f3f1bb65f",
   "metadata": {},
   "outputs": [],
   "source": [
    "import matplotlib.pyplot as plt\n",
    "import seaborn as sns"
   ]
  },
  {
   "cell_type": "markdown",
   "id": "965eac0a-4f6f-4e83-b66d-6978e7039dd5",
   "metadata": {},
   "source": [
    "## Histograma de Edades\n",
    "\n",
    "Se crea un histograma con 20 bins para observar la distribución de la edad de los pasajeros. Los datos nulos en la columna `Age` fueron eliminados para evitar distorsiones en el gráfico.\n"
   ]
  },
  {
   "cell_type": "code",
   "execution_count": 7,
   "id": "f42e9956-2b6c-46ee-bd2f-0b3aeeb8a3d5",
   "metadata": {},
   "outputs": [
    {
     "data": {
      "text/plain": [
       "<Axes: >"
      ]
     },
     "execution_count": 7,
     "metadata": {},
     "output_type": "execute_result"
    },
    {
     "data": {
      "image/png": "[encoded data removed]",
      "text/plain": [
       "<Figure size 640x480 with 1 Axes>"
      ]
     },
     "metadata": {},
     "output_type": "display_data"
    }
   ],
   "source": [
    "plt.figure()\n",
    "df['Age'].dropna().hist(bins=20)"
   ]
  },
  {
   "cell_type": "markdown",
   "id": "fcf42870-b009-428a-9800-edaadbd98397",
   "metadata": {},
   "source": [
    "## 🎯 Distribución de Supervivientes\n",
    "\n",
    "Se utiliza un gráfico de barras (`sns.countplot`) para visualizar la distribución de la variable objetivo `Survived`:\n",
    "\n",
    "- `0`: No sobrevivió\n",
    "- `1`: Sobrevivió\n",
    "\n",
    "### 📈 Interpretación del gráfico:\n",
    "\n",
    "- La mayoría de los pasajeros **no sobrevivieron** al hundimiento del Titanic.\n",
    "- Solo una minoría logró sobrevivir, lo cual resalta un **desequilibrio significativo** en la variable de interés.\n",
    "\n",
    "Esta observación inicial motiva a explorar los factores que influyeron en la supervivencia, como el sexo, la clase del pasajero y la edad.\n"
   ]
  },
  {
   "cell_type": "code",
   "execution_count": 8,
   "id": "974edd3b-1a09-4b72-b7a1-a93fa52f2576",
   "metadata": {},
   "outputs": [
    {
     "data": {
      "text/plain": [
       "<Axes: xlabel='Survived', ylabel='count'>"
      ]
     },
     "execution_count": 8,
     "metadata": {},
     "output_type": "execute_result"
    },
    {
     "data": {
      "image/png": "[encoded data removed]",
      "text/plain": [
       "<Figure size 640x480 with 1 Axes>"
      ]
     },
     "metadata": {},
     "output_type": "display_data"
    }
   ],
   "source": [
    "plt.figure()\n",
    "sns.countplot(x='Survived', data=df)\n"
   ]
  },
  {
   "cell_type": "markdown",
   "id": "0ae70832-121a-4778-8d7b-5cfffd5e3064",
   "metadata": {},
   "source": [
    "## Cruce de Variables\n",
    "\n",
    "Se utilizan `groupby` y `pivot_table` para estudiar la tasa de supervivencia según variables categóricas:\n",
    "\n",
    "- Supervivencia por sexo\n",
    "- Supervivencia por clase (`Pclass`)\n",
    "- Supervivencia por puerto de embarque (`Embarked`)\n",
    "\n",
    "Este análisis ayuda a detectar patrones y diferencias entre grupos de pasajeros.\n"
   ]
  },
  {
   "cell_type": "code",
   "execution_count": 9,
   "id": "361467d1-070a-4068-a02c-a62b1ecf239a",
   "metadata": {},
   "outputs": [
    {
     "name": "stdout",
     "output_type": "stream",
     "text": [
      "      Sex  Survived\n",
      "0  female  0.742038\n",
      "1    male  0.188908\n"
     ]
    }
   ],
   "source": [
    "surv_by_sex = df.groupby('Sex')['Survived'].mean().reset_index()\n",
    "print(surv_by_sex)"
   ]
  },
  {
   "cell_type": "code",
   "execution_count": 10,
   "id": "e4e1c4f9-dc5f-4eb3-bec8-2218f501a876",
   "metadata": {},
   "outputs": [
    {
     "name": "stdout",
     "output_type": "stream",
     "text": [
      "   Pclass  Survived\n",
      "0       1  0.629630\n",
      "1       2  0.472826\n",
      "2       3  0.242363\n"
     ]
    }
   ],
   "source": [
    "surv_by_class = df.groupby('Pclass')['Survived'].mean().reset_index()\n",
    "print(surv_by_class)"
   ]
  },
  {
   "cell_type": "code",
   "execution_count": 11,
   "id": "d45d8443-c4d8-4319-93fc-3c5883664f6f",
   "metadata": {},
   "outputs": [
    {
     "name": "stdout",
     "output_type": "stream",
     "text": [
      "  Embarked  Survived\n",
      "0        C  0.553571\n",
      "1        Q  0.389610\n",
      "2        S  0.336957\n"
     ]
    }
   ],
   "source": [
    "surv_by_port = df.groupby('Embarked')['Survived'].mean().reset_index()\n",
    "print(surv_by_port)"
   ]
  },
  {
   "cell_type": "code",
   "execution_count": 12,
   "id": "59041ab7-12b8-46e8-af5b-39437b807be5",
   "metadata": {},
   "outputs": [
    {
     "name": "stdout",
     "output_type": "stream",
     "text": [
      "Pclass         1         2         3\n",
      "Sex                                 \n",
      "female  0.968085  0.921053  0.500000\n",
      "male    0.368852  0.157407  0.135447\n"
     ]
    }
   ],
   "source": [
    "pivot_sex_class = df.pivot_table(\n",
    "    index = 'Sex',\n",
    "    columns = 'Pclass',\n",
    "    values = 'Survived',\n",
    "    aggfunc='mean')\n",
    "print(pivot_sex_class)"
   ]
  },
  {
   "cell_type": "code",
   "execution_count": 13,
   "id": "b07621ad-9f9b-4894-bea0-3f41527ea858",
   "metadata": {},
   "outputs": [
    {
     "name": "stdout",
     "output_type": "stream",
     "text": [
      "Embarked         C         Q         S\n",
      "Pclass                                \n",
      "1         0.694118  0.500000  0.582677\n",
      "2         0.529412  0.666667  0.463415\n",
      "3         0.378788  0.375000  0.189802\n"
     ]
    }
   ],
   "source": [
    "pivot_class_port = df.pivot_table(\n",
    "    index = 'Pclass',\n",
    "    columns = 'Embarked',\n",
    "    values = 'Survived',\n",
    "    aggfunc='mean')\n",
    "print(pivot_class_port) "
   ]
  },
  {
   "cell_type": "code",
   "execution_count": 14,
   "id": "d8f60c56-9367-4e55-8c64-07ddde049e38",
   "metadata": {},
   "outputs": [
    {
     "data": {
      "text/plain": [
       "PassengerId      0\n",
       "Survived         0\n",
       "Pclass           0\n",
       "Name             0\n",
       "Sex              0\n",
       "Age            177\n",
       "SibSp            0\n",
       "Parch            0\n",
       "Ticket           0\n",
       "Fare             0\n",
       "Cabin          687\n",
       "Embarked         2\n",
       "dtype: int64"
      ]
     },
     "execution_count": 14,
     "metadata": {},
     "output_type": "execute_result"
    }
   ],
   "source": [
    "df.isnull().sum()"
   ]
  },
  {
   "cell_type": "markdown",
   "id": "9f8986d5-79d1-4feb-a21c-ea655f958e9e",
   "metadata": {},
   "source": [
    "## Limpieza de Datos\n",
    "\n",
    "Se tratan valores faltantes usando:\n",
    "\n",
    "- `dropna()` para eliminar filas con datos nulos (por ejemplo, en `Age`)\n",
    "- `fillna()` para completar columnas como `Embarked` con el valor más frecuente\n",
    "\n",
    "Esto garantiza un análisis más confiable y evita errores en operaciones estadísticas.\n"
   ]
  },
  {
   "cell_type": "code",
   "execution_count": 16,
   "id": "9fe9c101-762f-4ae3-892c-d80bb5871eab",
   "metadata": {},
   "outputs": [],
   "source": [
    "df_clean = df.drop(columns=['Cabin'])"
   ]
  },
  {
   "cell_type": "code",
   "execution_count": 18,
   "id": "1be37ccd-20b0-4521-b2ca-2d228d402d1b",
   "metadata": {},
   "outputs": [],
   "source": [
    "df_clean = df_clean.dropna(subset=['Embarked'])"
   ]
  },
  {
   "cell_type": "code",
   "execution_count": 19,
   "id": "0b4844c0-3307-4331-9ea1-0816aef36ed1",
   "metadata": {},
   "outputs": [],
   "source": [
    "med_age_by_class = df_clean.groupby('Pclass')['Age'].median()"
   ]
  },
  {
   "cell_type": "code",
   "execution_count": 21,
   "id": "3fd5916d-44c1-400a-8036-640dd435e62a",
   "metadata": {},
   "outputs": [],
   "source": [
    "def impute_age(row):\n",
    "    if pd.isnull(row['Age']):\n",
    "        return med_age_by_class[row['Pclass']]\n",
    "    else:\n",
    "        return row['Age']\n",
    "\n",
    "df_clean['Age'] = df_clean.apply(impute_age,axis=1)"
   ]
  },
  {
   "cell_type": "code",
   "execution_count": 22,
   "id": "1466a769-d5a2-4cf8-b1a8-bedd74461f93",
   "metadata": {},
   "outputs": [],
   "source": [
    "top_port = df_clean['Embarked'].mode()[0]"
   ]
  },
  {
   "cell_type": "code",
   "execution_count": 23,
   "id": "490f0583-4326-4ba4-964b-839e55268355",
   "metadata": {},
   "outputs": [],
   "source": [
    "df_clean['Embarked'] = df_clean['Embarked'].fillna(top_port)"
   ]
  },
  {
   "cell_type": "code",
   "execution_count": 24,
   "id": "cbed6d47-2b48-45bc-b8c8-513243bfd848",
   "metadata": {},
   "outputs": [
    {
     "data": {
      "text/plain": [
       "PassengerId    0\n",
       "Survived       0\n",
       "Pclass         0\n",
       "Name           0\n",
       "Sex            0\n",
       "Age            0\n",
       "SibSp          0\n",
       "Parch          0\n",
       "Ticket         0\n",
       "Fare           0\n",
       "Embarked       0\n",
       "dtype: int64"
      ]
     },
     "execution_count": 24,
     "metadata": {},
     "output_type": "execute_result"
    }
   ],
   "source": [
    "df_clean.isnull().sum()"
   ]
  },
  {
   "cell_type": "markdown",
   "id": "18fc3335-2a4b-4cf1-8ed6-11fa2209011f",
   "metadata": {},
   "source": [
    "## Conclusiones\n",
    "\n",
    "- Las mujeres tienen una tasa de supervivencia mucho mayor que los hombres.\n",
    "- Los pasajeros de 1ª clase tienen mayor probabilidad de sobrevivir que los de 2ª y 3ª.\n",
    "- La mayoría de pasajeros tenían entre 20 y 35 años.\n",
    "- El género, la clase y el punto de embarque son factores importantes relacionados con la supervivencia.\n",
    "\n",
    "Este análisis exploratorio demuestra cómo pandas y visualizaciones simples permiten descubrir patrones interesantes en los datos.\n",
    "\n",
    "---\n"
   ]
  }
 ],
 "metadata": {
  "kernelspec": {
   "display_name": "Python 3 (ipykernel)",
   "language": "python",
   "name": "python3"
  },
  "language_info": {
   "codemirror_mode": {
    "name": "ipython",
    "version": 3
   },
   "file_extension": ".py",
   "mimetype": "text/x-python",
   "name": "python",
   "nbconvert_exporter": "python",
   "pygments_lexer": "ipython3",
   "version": "3.12.3"
  }
 },
 "nbformat": 4,
 "nbformat_minor": 5
}
